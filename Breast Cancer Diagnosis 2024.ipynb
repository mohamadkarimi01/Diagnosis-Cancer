{
  "nbformat": 4,
  "nbformat_minor": 0,
  "metadata": {
    "colab": {
      "provenance": []
    },
    "kernelspec": {
      "name": "python3",
      "display_name": "Python 3"
    },
    "language_info": {
      "name": "python"
    }
  },
  "cells": [
    {
      "cell_type": "markdown",
      "source": [
        "# **Importing**"
      ],
      "metadata": {
        "id": "cgkZvV_W8-O_"
      }
    },
    {
      "cell_type": "code",
      "source": [
        "import pandas as pd\n",
        "import numpy as np\n",
        "import matplotlib.pyplot as plt\n",
        "import seaborn as sns\n",
        "from sklearn.model_selection import train_test_split as tts\n",
        "from sklearn.model_selection import GridSearchCV, RandomizedSearchCV\n",
        "from sklearn.metrics import recall_score, precision_score, accuracy_score, f1_score, confusion_matrix, classification_report\n",
        "from sklearn.linear_model import LogisticRegression"
      ],
      "metadata": {
        "id": "eD2eTDJ82r3L"
      },
      "execution_count": 540,
      "outputs": []
    },
    {
      "cell_type": "markdown",
      "source": [
        "# **Loading**"
      ],
      "metadata": {
        "id": "ykzA7Gqm845x"
      }
    },
    {
      "cell_type": "code",
      "source": [
        "raw_data = pd.read_csv('/content/Diagnosis Breast Cancer Dataset.csv')"
      ],
      "metadata": {
        "id": "pAW2LfMY45Bs"
      },
      "execution_count": 541,
      "outputs": []
    },
    {
      "cell_type": "code",
      "source": [
        "raw_data.head()"
      ],
      "metadata": {
        "colab": {
          "base_uri": "https://localhost:8080/",
          "height": 273
        },
        "id": "dvRlvbT55DYo",
        "outputId": "1840e984-9a7a-4cb5-925d-9430a79c1efd"
      },
      "execution_count": 542,
      "outputs": [
        {
          "output_type": "execute_result",
          "data": {
            "text/plain": [
              "         id diagnosis  radius_mean  texture_mean  perimeter_mean  area_mean  \\\n",
              "0    842302         M        17.99         10.38          122.80     1001.0   \n",
              "1    842517         M        20.57         17.77          132.90     1326.0   \n",
              "2  84300903         M        19.69         21.25          130.00     1203.0   \n",
              "3  84348301         M        11.42         20.38           77.58      386.1   \n",
              "4  84358402         M        20.29         14.34          135.10     1297.0   \n",
              "\n",
              "   smoothness_mean  compactness_mean  concavity_mean  concave points_mean  \\\n",
              "0          0.11840           0.27760          0.3001              0.14710   \n",
              "1          0.08474           0.07864          0.0869              0.07017   \n",
              "2          0.10960           0.15990          0.1974              0.12790   \n",
              "3          0.14250           0.28390          0.2414              0.10520   \n",
              "4          0.10030           0.13280          0.1980              0.10430   \n",
              "\n",
              "   ...  texture_worst  perimeter_worst  area_worst  smoothness_worst  \\\n",
              "0  ...          17.33           184.60      2019.0            0.1622   \n",
              "1  ...          23.41           158.80      1956.0            0.1238   \n",
              "2  ...          25.53           152.50      1709.0            0.1444   \n",
              "3  ...          26.50            98.87       567.7            0.2098   \n",
              "4  ...          16.67           152.20      1575.0            0.1374   \n",
              "\n",
              "   compactness_worst  concavity_worst  concave points_worst  symmetry_worst  \\\n",
              "0             0.6656           0.7119                0.2654          0.4601   \n",
              "1             0.1866           0.2416                0.1860          0.2750   \n",
              "2             0.4245           0.4504                0.2430          0.3613   \n",
              "3             0.8663           0.6869                0.2575          0.6638   \n",
              "4             0.2050           0.4000                0.1625          0.2364   \n",
              "\n",
              "   fractal_dimension_worst  Unnamed: 32  \n",
              "0                  0.11890          NaN  \n",
              "1                  0.08902          NaN  \n",
              "2                  0.08758          NaN  \n",
              "3                  0.17300          NaN  \n",
              "4                  0.07678          NaN  \n",
              "\n",
              "[5 rows x 33 columns]"
            ],
            "text/html": [
              "\n",
              "  <div id=\"df-50820c5b-1b4c-4104-bf46-b044f4808140\" class=\"colab-df-container\">\n",
              "    <div>\n",
              "<style scoped>\n",
              "    .dataframe tbody tr th:only-of-type {\n",
              "        vertical-align: middle;\n",
              "    }\n",
              "\n",
              "    .dataframe tbody tr th {\n",
              "        vertical-align: top;\n",
              "    }\n",
              "\n",
              "    .dataframe thead th {\n",
              "        text-align: right;\n",
              "    }\n",
              "</style>\n",
              "<table border=\"1\" class=\"dataframe\">\n",
              "  <thead>\n",
              "    <tr style=\"text-align: right;\">\n",
              "      <th></th>\n",
              "      <th>id</th>\n",
              "      <th>diagnosis</th>\n",
              "      <th>radius_mean</th>\n",
              "      <th>texture_mean</th>\n",
              "      <th>perimeter_mean</th>\n",
              "      <th>area_mean</th>\n",
              "      <th>smoothness_mean</th>\n",
              "      <th>compactness_mean</th>\n",
              "      <th>concavity_mean</th>\n",
              "      <th>concave points_mean</th>\n",
              "      <th>...</th>\n",
              "      <th>texture_worst</th>\n",
              "      <th>perimeter_worst</th>\n",
              "      <th>area_worst</th>\n",
              "      <th>smoothness_worst</th>\n",
              "      <th>compactness_worst</th>\n",
              "      <th>concavity_worst</th>\n",
              "      <th>concave points_worst</th>\n",
              "      <th>symmetry_worst</th>\n",
              "      <th>fractal_dimension_worst</th>\n",
              "      <th>Unnamed: 32</th>\n",
              "    </tr>\n",
              "  </thead>\n",
              "  <tbody>\n",
              "    <tr>\n",
              "      <th>0</th>\n",
              "      <td>842302</td>\n",
              "      <td>M</td>\n",
              "      <td>17.99</td>\n",
              "      <td>10.38</td>\n",
              "      <td>122.80</td>\n",
              "      <td>1001.0</td>\n",
              "      <td>0.11840</td>\n",
              "      <td>0.27760</td>\n",
              "      <td>0.3001</td>\n",
              "      <td>0.14710</td>\n",
              "      <td>...</td>\n",
              "      <td>17.33</td>\n",
              "      <td>184.60</td>\n",
              "      <td>2019.0</td>\n",
              "      <td>0.1622</td>\n",
              "      <td>0.6656</td>\n",
              "      <td>0.7119</td>\n",
              "      <td>0.2654</td>\n",
              "      <td>0.4601</td>\n",
              "      <td>0.11890</td>\n",
              "      <td>NaN</td>\n",
              "    </tr>\n",
              "    <tr>\n",
              "      <th>1</th>\n",
              "      <td>842517</td>\n",
              "      <td>M</td>\n",
              "      <td>20.57</td>\n",
              "      <td>17.77</td>\n",
              "      <td>132.90</td>\n",
              "      <td>1326.0</td>\n",
              "      <td>0.08474</td>\n",
              "      <td>0.07864</td>\n",
              "      <td>0.0869</td>\n",
              "      <td>0.07017</td>\n",
              "      <td>...</td>\n",
              "      <td>23.41</td>\n",
              "      <td>158.80</td>\n",
              "      <td>1956.0</td>\n",
              "      <td>0.1238</td>\n",
              "      <td>0.1866</td>\n",
              "      <td>0.2416</td>\n",
              "      <td>0.1860</td>\n",
              "      <td>0.2750</td>\n",
              "      <td>0.08902</td>\n",
              "      <td>NaN</td>\n",
              "    </tr>\n",
              "    <tr>\n",
              "      <th>2</th>\n",
              "      <td>84300903</td>\n",
              "      <td>M</td>\n",
              "      <td>19.69</td>\n",
              "      <td>21.25</td>\n",
              "      <td>130.00</td>\n",
              "      <td>1203.0</td>\n",
              "      <td>0.10960</td>\n",
              "      <td>0.15990</td>\n",
              "      <td>0.1974</td>\n",
              "      <td>0.12790</td>\n",
              "      <td>...</td>\n",
              "      <td>25.53</td>\n",
              "      <td>152.50</td>\n",
              "      <td>1709.0</td>\n",
              "      <td>0.1444</td>\n",
              "      <td>0.4245</td>\n",
              "      <td>0.4504</td>\n",
              "      <td>0.2430</td>\n",
              "      <td>0.3613</td>\n",
              "      <td>0.08758</td>\n",
              "      <td>NaN</td>\n",
              "    </tr>\n",
              "    <tr>\n",
              "      <th>3</th>\n",
              "      <td>84348301</td>\n",
              "      <td>M</td>\n",
              "      <td>11.42</td>\n",
              "      <td>20.38</td>\n",
              "      <td>77.58</td>\n",
              "      <td>386.1</td>\n",
              "      <td>0.14250</td>\n",
              "      <td>0.28390</td>\n",
              "      <td>0.2414</td>\n",
              "      <td>0.10520</td>\n",
              "      <td>...</td>\n",
              "      <td>26.50</td>\n",
              "      <td>98.87</td>\n",
              "      <td>567.7</td>\n",
              "      <td>0.2098</td>\n",
              "      <td>0.8663</td>\n",
              "      <td>0.6869</td>\n",
              "      <td>0.2575</td>\n",
              "      <td>0.6638</td>\n",
              "      <td>0.17300</td>\n",
              "      <td>NaN</td>\n",
              "    </tr>\n",
              "    <tr>\n",
              "      <th>4</th>\n",
              "      <td>84358402</td>\n",
              "      <td>M</td>\n",
              "      <td>20.29</td>\n",
              "      <td>14.34</td>\n",
              "      <td>135.10</td>\n",
              "      <td>1297.0</td>\n",
              "      <td>0.10030</td>\n",
              "      <td>0.13280</td>\n",
              "      <td>0.1980</td>\n",
              "      <td>0.10430</td>\n",
              "      <td>...</td>\n",
              "      <td>16.67</td>\n",
              "      <td>152.20</td>\n",
              "      <td>1575.0</td>\n",
              "      <td>0.1374</td>\n",
              "      <td>0.2050</td>\n",
              "      <td>0.4000</td>\n",
              "      <td>0.1625</td>\n",
              "      <td>0.2364</td>\n",
              "      <td>0.07678</td>\n",
              "      <td>NaN</td>\n",
              "    </tr>\n",
              "  </tbody>\n",
              "</table>\n",
              "<p>5 rows × 33 columns</p>\n",
              "</div>\n",
              "    <div class=\"colab-df-buttons\">\n",
              "\n",
              "  <div class=\"colab-df-container\">\n",
              "    <button class=\"colab-df-convert\" onclick=\"convertToInteractive('df-50820c5b-1b4c-4104-bf46-b044f4808140')\"\n",
              "            title=\"Convert this dataframe to an interactive table.\"\n",
              "            style=\"display:none;\">\n",
              "\n",
              "  <svg xmlns=\"http://www.w3.org/2000/svg\" height=\"24px\" viewBox=\"0 -960 960 960\">\n",
              "    <path d=\"M120-120v-720h720v720H120Zm60-500h600v-160H180v160Zm220 220h160v-160H400v160Zm0 220h160v-160H400v160ZM180-400h160v-160H180v160Zm440 0h160v-160H620v160ZM180-180h160v-160H180v160Zm440 0h160v-160H620v160Z\"/>\n",
              "  </svg>\n",
              "    </button>\n",
              "\n",
              "  <style>\n",
              "    .colab-df-container {\n",
              "      display:flex;\n",
              "      gap: 12px;\n",
              "    }\n",
              "\n",
              "    .colab-df-convert {\n",
              "      background-color: #E8F0FE;\n",
              "      border: none;\n",
              "      border-radius: 50%;\n",
              "      cursor: pointer;\n",
              "      display: none;\n",
              "      fill: #1967D2;\n",
              "      height: 32px;\n",
              "      padding: 0 0 0 0;\n",
              "      width: 32px;\n",
              "    }\n",
              "\n",
              "    .colab-df-convert:hover {\n",
              "      background-color: #E2EBFA;\n",
              "      box-shadow: 0px 1px 2px rgba(60, 64, 67, 0.3), 0px 1px 3px 1px rgba(60, 64, 67, 0.15);\n",
              "      fill: #174EA6;\n",
              "    }\n",
              "\n",
              "    .colab-df-buttons div {\n",
              "      margin-bottom: 4px;\n",
              "    }\n",
              "\n",
              "    [theme=dark] .colab-df-convert {\n",
              "      background-color: #3B4455;\n",
              "      fill: #D2E3FC;\n",
              "    }\n",
              "\n",
              "    [theme=dark] .colab-df-convert:hover {\n",
              "      background-color: #434B5C;\n",
              "      box-shadow: 0px 1px 3px 1px rgba(0, 0, 0, 0.15);\n",
              "      filter: drop-shadow(0px 1px 2px rgba(0, 0, 0, 0.3));\n",
              "      fill: #FFFFFF;\n",
              "    }\n",
              "  </style>\n",
              "\n",
              "    <script>\n",
              "      const buttonEl =\n",
              "        document.querySelector('#df-50820c5b-1b4c-4104-bf46-b044f4808140 button.colab-df-convert');\n",
              "      buttonEl.style.display =\n",
              "        google.colab.kernel.accessAllowed ? 'block' : 'none';\n",
              "\n",
              "      async function convertToInteractive(key) {\n",
              "        const element = document.querySelector('#df-50820c5b-1b4c-4104-bf46-b044f4808140');\n",
              "        const dataTable =\n",
              "          await google.colab.kernel.invokeFunction('convertToInteractive',\n",
              "                                                    [key], {});\n",
              "        if (!dataTable) return;\n",
              "\n",
              "        const docLinkHtml = 'Like what you see? Visit the ' +\n",
              "          '<a target=\"_blank\" href=https://colab.research.google.com/notebooks/data_table.ipynb>data table notebook</a>'\n",
              "          + ' to learn more about interactive tables.';\n",
              "        element.innerHTML = '';\n",
              "        dataTable['output_type'] = 'display_data';\n",
              "        await google.colab.output.renderOutput(dataTable, element);\n",
              "        const docLink = document.createElement('div');\n",
              "        docLink.innerHTML = docLinkHtml;\n",
              "        element.appendChild(docLink);\n",
              "      }\n",
              "    </script>\n",
              "  </div>\n",
              "\n",
              "\n",
              "<div id=\"df-5200d8bc-2d2b-468f-b831-926db91be766\">\n",
              "  <button class=\"colab-df-quickchart\" onclick=\"quickchart('df-5200d8bc-2d2b-468f-b831-926db91be766')\"\n",
              "            title=\"Suggest charts\"\n",
              "            style=\"display:none;\">\n",
              "\n",
              "<svg xmlns=\"http://www.w3.org/2000/svg\" height=\"24px\"viewBox=\"0 0 24 24\"\n",
              "     width=\"24px\">\n",
              "    <g>\n",
              "        <path d=\"M19 3H5c-1.1 0-2 .9-2 2v14c0 1.1.9 2 2 2h14c1.1 0 2-.9 2-2V5c0-1.1-.9-2-2-2zM9 17H7v-7h2v7zm4 0h-2V7h2v10zm4 0h-2v-4h2v4z\"/>\n",
              "    </g>\n",
              "</svg>\n",
              "  </button>\n",
              "\n",
              "<style>\n",
              "  .colab-df-quickchart {\n",
              "      --bg-color: #E8F0FE;\n",
              "      --fill-color: #1967D2;\n",
              "      --hover-bg-color: #E2EBFA;\n",
              "      --hover-fill-color: #174EA6;\n",
              "      --disabled-fill-color: #AAA;\n",
              "      --disabled-bg-color: #DDD;\n",
              "  }\n",
              "\n",
              "  [theme=dark] .colab-df-quickchart {\n",
              "      --bg-color: #3B4455;\n",
              "      --fill-color: #D2E3FC;\n",
              "      --hover-bg-color: #434B5C;\n",
              "      --hover-fill-color: #FFFFFF;\n",
              "      --disabled-bg-color: #3B4455;\n",
              "      --disabled-fill-color: #666;\n",
              "  }\n",
              "\n",
              "  .colab-df-quickchart {\n",
              "    background-color: var(--bg-color);\n",
              "    border: none;\n",
              "    border-radius: 50%;\n",
              "    cursor: pointer;\n",
              "    display: none;\n",
              "    fill: var(--fill-color);\n",
              "    height: 32px;\n",
              "    padding: 0;\n",
              "    width: 32px;\n",
              "  }\n",
              "\n",
              "  .colab-df-quickchart:hover {\n",
              "    background-color: var(--hover-bg-color);\n",
              "    box-shadow: 0 1px 2px rgba(60, 64, 67, 0.3), 0 1px 3px 1px rgba(60, 64, 67, 0.15);\n",
              "    fill: var(--button-hover-fill-color);\n",
              "  }\n",
              "\n",
              "  .colab-df-quickchart-complete:disabled,\n",
              "  .colab-df-quickchart-complete:disabled:hover {\n",
              "    background-color: var(--disabled-bg-color);\n",
              "    fill: var(--disabled-fill-color);\n",
              "    box-shadow: none;\n",
              "  }\n",
              "\n",
              "  .colab-df-spinner {\n",
              "    border: 2px solid var(--fill-color);\n",
              "    border-color: transparent;\n",
              "    border-bottom-color: var(--fill-color);\n",
              "    animation:\n",
              "      spin 1s steps(1) infinite;\n",
              "  }\n",
              "\n",
              "  @keyframes spin {\n",
              "    0% {\n",
              "      border-color: transparent;\n",
              "      border-bottom-color: var(--fill-color);\n",
              "      border-left-color: var(--fill-color);\n",
              "    }\n",
              "    20% {\n",
              "      border-color: transparent;\n",
              "      border-left-color: var(--fill-color);\n",
              "      border-top-color: var(--fill-color);\n",
              "    }\n",
              "    30% {\n",
              "      border-color: transparent;\n",
              "      border-left-color: var(--fill-color);\n",
              "      border-top-color: var(--fill-color);\n",
              "      border-right-color: var(--fill-color);\n",
              "    }\n",
              "    40% {\n",
              "      border-color: transparent;\n",
              "      border-right-color: var(--fill-color);\n",
              "      border-top-color: var(--fill-color);\n",
              "    }\n",
              "    60% {\n",
              "      border-color: transparent;\n",
              "      border-right-color: var(--fill-color);\n",
              "    }\n",
              "    80% {\n",
              "      border-color: transparent;\n",
              "      border-right-color: var(--fill-color);\n",
              "      border-bottom-color: var(--fill-color);\n",
              "    }\n",
              "    90% {\n",
              "      border-color: transparent;\n",
              "      border-bottom-color: var(--fill-color);\n",
              "    }\n",
              "  }\n",
              "</style>\n",
              "\n",
              "  <script>\n",
              "    async function quickchart(key) {\n",
              "      const quickchartButtonEl =\n",
              "        document.querySelector('#' + key + ' button');\n",
              "      quickchartButtonEl.disabled = true;  // To prevent multiple clicks.\n",
              "      quickchartButtonEl.classList.add('colab-df-spinner');\n",
              "      try {\n",
              "        const charts = await google.colab.kernel.invokeFunction(\n",
              "            'suggestCharts', [key], {});\n",
              "      } catch (error) {\n",
              "        console.error('Error during call to suggestCharts:', error);\n",
              "      }\n",
              "      quickchartButtonEl.classList.remove('colab-df-spinner');\n",
              "      quickchartButtonEl.classList.add('colab-df-quickchart-complete');\n",
              "    }\n",
              "    (() => {\n",
              "      let quickchartButtonEl =\n",
              "        document.querySelector('#df-5200d8bc-2d2b-468f-b831-926db91be766 button');\n",
              "      quickchartButtonEl.style.display =\n",
              "        google.colab.kernel.accessAllowed ? 'block' : 'none';\n",
              "    })();\n",
              "  </script>\n",
              "</div>\n",
              "    </div>\n",
              "  </div>\n"
            ],
            "application/vnd.google.colaboratory.intrinsic+json": {
              "type": "dataframe",
              "variable_name": "raw_data"
            }
          },
          "metadata": {},
          "execution_count": 542
        }
      ]
    },
    {
      "cell_type": "code",
      "source": [
        "raw_data.info()"
      ],
      "metadata": {
        "colab": {
          "base_uri": "https://localhost:8080/"
        },
        "id": "17KP3ZXZ5MNh",
        "outputId": "d0937f5f-e2ab-46f1-f4b1-8a573d0d8f43"
      },
      "execution_count": 543,
      "outputs": [
        {
          "output_type": "stream",
          "name": "stdout",
          "text": [
            "<class 'pandas.core.frame.DataFrame'>\n",
            "RangeIndex: 569 entries, 0 to 568\n",
            "Data columns (total 33 columns):\n",
            " #   Column                   Non-Null Count  Dtype  \n",
            "---  ------                   --------------  -----  \n",
            " 0   id                       569 non-null    int64  \n",
            " 1   diagnosis                569 non-null    object \n",
            " 2   radius_mean              569 non-null    float64\n",
            " 3   texture_mean             569 non-null    float64\n",
            " 4   perimeter_mean           569 non-null    float64\n",
            " 5   area_mean                569 non-null    float64\n",
            " 6   smoothness_mean          569 non-null    float64\n",
            " 7   compactness_mean         569 non-null    float64\n",
            " 8   concavity_mean           569 non-null    float64\n",
            " 9   concave points_mean      569 non-null    float64\n",
            " 10  symmetry_mean            569 non-null    float64\n",
            " 11  fractal_dimension_mean   569 non-null    float64\n",
            " 12  radius_se                569 non-null    float64\n",
            " 13  texture_se               569 non-null    float64\n",
            " 14  perimeter_se             569 non-null    float64\n",
            " 15  area_se                  569 non-null    float64\n",
            " 16  smoothness_se            569 non-null    float64\n",
            " 17  compactness_se           569 non-null    float64\n",
            " 18  concavity_se             569 non-null    float64\n",
            " 19  concave points_se        569 non-null    float64\n",
            " 20  symmetry_se              569 non-null    float64\n",
            " 21  fractal_dimension_se     569 non-null    float64\n",
            " 22  radius_worst             569 non-null    float64\n",
            " 23  texture_worst            569 non-null    float64\n",
            " 24  perimeter_worst          569 non-null    float64\n",
            " 25  area_worst               569 non-null    float64\n",
            " 26  smoothness_worst         569 non-null    float64\n",
            " 27  compactness_worst        569 non-null    float64\n",
            " 28  concavity_worst          569 non-null    float64\n",
            " 29  concave points_worst     569 non-null    float64\n",
            " 30  symmetry_worst           569 non-null    float64\n",
            " 31  fractal_dimension_worst  569 non-null    float64\n",
            " 32  Unnamed: 32              0 non-null      float64\n",
            "dtypes: float64(31), int64(1), object(1)\n",
            "memory usage: 146.8+ KB\n"
          ]
        }
      ]
    },
    {
      "cell_type": "code",
      "source": [
        "raw_data.isnull().sum()"
      ],
      "metadata": {
        "colab": {
          "base_uri": "https://localhost:8080/"
        },
        "id": "jQWl6txm5Ptu",
        "outputId": "f1492f41-b650-45f2-d8df-8579b55073bf"
      },
      "execution_count": 544,
      "outputs": [
        {
          "output_type": "execute_result",
          "data": {
            "text/plain": [
              "id                           0\n",
              "diagnosis                    0\n",
              "radius_mean                  0\n",
              "texture_mean                 0\n",
              "perimeter_mean               0\n",
              "area_mean                    0\n",
              "smoothness_mean              0\n",
              "compactness_mean             0\n",
              "concavity_mean               0\n",
              "concave points_mean          0\n",
              "symmetry_mean                0\n",
              "fractal_dimension_mean       0\n",
              "radius_se                    0\n",
              "texture_se                   0\n",
              "perimeter_se                 0\n",
              "area_se                      0\n",
              "smoothness_se                0\n",
              "compactness_se               0\n",
              "concavity_se                 0\n",
              "concave points_se            0\n",
              "symmetry_se                  0\n",
              "fractal_dimension_se         0\n",
              "radius_worst                 0\n",
              "texture_worst                0\n",
              "perimeter_worst              0\n",
              "area_worst                   0\n",
              "smoothness_worst             0\n",
              "compactness_worst            0\n",
              "concavity_worst              0\n",
              "concave points_worst         0\n",
              "symmetry_worst               0\n",
              "fractal_dimension_worst      0\n",
              "Unnamed: 32                569\n",
              "dtype: int64"
            ]
          },
          "metadata": {},
          "execution_count": 544
        }
      ]
    },
    {
      "cell_type": "code",
      "source": [
        "raw_data.eq(0).sum()"
      ],
      "metadata": {
        "colab": {
          "base_uri": "https://localhost:8080/"
        },
        "id": "7fmHAC6c5S7k",
        "outputId": "8d7cfd63-23da-4673-e813-78540bcc954f"
      },
      "execution_count": 545,
      "outputs": [
        {
          "output_type": "execute_result",
          "data": {
            "text/plain": [
              "id                          0\n",
              "diagnosis                   0\n",
              "radius_mean                 0\n",
              "texture_mean                0\n",
              "perimeter_mean              0\n",
              "area_mean                   0\n",
              "smoothness_mean             0\n",
              "compactness_mean            0\n",
              "concavity_mean             13\n",
              "concave points_mean        13\n",
              "symmetry_mean               0\n",
              "fractal_dimension_mean      0\n",
              "radius_se                   0\n",
              "texture_se                  0\n",
              "perimeter_se                0\n",
              "area_se                     0\n",
              "smoothness_se               0\n",
              "compactness_se              0\n",
              "concavity_se               13\n",
              "concave points_se          13\n",
              "symmetry_se                 0\n",
              "fractal_dimension_se        0\n",
              "radius_worst                0\n",
              "texture_worst               0\n",
              "perimeter_worst             0\n",
              "area_worst                  0\n",
              "smoothness_worst            0\n",
              "compactness_worst           0\n",
              "concavity_worst            13\n",
              "concave points_worst       13\n",
              "symmetry_worst              0\n",
              "fractal_dimension_worst     0\n",
              "Unnamed: 32                 0\n",
              "dtype: int64"
            ]
          },
          "metadata": {},
          "execution_count": 545
        }
      ]
    },
    {
      "cell_type": "code",
      "source": [
        "# raw_data.describe(include='all').T"
      ],
      "metadata": {
        "id": "KRr1HZnY5Vt4"
      },
      "execution_count": 546,
      "outputs": []
    },
    {
      "cell_type": "markdown",
      "source": [
        "# **Deleting**"
      ],
      "metadata": {
        "id": "T2eOtFcT8yLe"
      }
    },
    {
      "cell_type": "code",
      "source": [
        "data = raw_data.drop(['Unnamed: 32', 'id'], axis=1)"
      ],
      "metadata": {
        "id": "JgobJaTp5xdl"
      },
      "execution_count": 547,
      "outputs": []
    },
    {
      "cell_type": "code",
      "source": [
        "# data.head()"
      ],
      "metadata": {
        "id": "IeEu7Lm_6ewb"
      },
      "execution_count": 548,
      "outputs": []
    },
    {
      "cell_type": "markdown",
      "source": [
        "# **Converting Categorical Data To Numerical Data**"
      ],
      "metadata": {
        "id": "bEAzdGlE8MNL"
      }
    },
    {
      "cell_type": "code",
      "source": [
        "# First Method\n",
        "\n",
        "# c = 0\n",
        "# for k in data.diagnosis:\n",
        "#   if k == 'M':\n",
        "#     data.diagnosis[c] = 1\n",
        "#   else:\n",
        "#     data.diagnosis[c] = 0\n",
        "#   c += 1\n",
        "# ---------------------------------------\n",
        "\n",
        "# Second Method\n",
        "data.diagnosis = [1 if each == 'M' else 0 for each in data.diagnosis]"
      ],
      "metadata": {
        "id": "YmuJhvHk6kAg"
      },
      "execution_count": 549,
      "outputs": []
    },
    {
      "cell_type": "code",
      "source": [
        "# data.head()"
      ],
      "metadata": {
        "id": "2kjppKvD7Ifx"
      },
      "execution_count": 550,
      "outputs": []
    },
    {
      "cell_type": "code",
      "source": [
        "# data.dtypes"
      ],
      "metadata": {
        "id": "WQ4Sl_K59SZ5"
      },
      "execution_count": 551,
      "outputs": []
    },
    {
      "cell_type": "code",
      "source": [
        "# data.info()"
      ],
      "metadata": {
        "id": "CARd1KUt9YS_"
      },
      "execution_count": 552,
      "outputs": []
    },
    {
      "cell_type": "code",
      "source": [
        "# data.nunique()"
      ],
      "metadata": {
        "id": "x0pyAahg7MYY"
      },
      "execution_count": 553,
      "outputs": []
    },
    {
      "cell_type": "code",
      "source": [
        "data.diagnosis.unique()"
      ],
      "metadata": {
        "colab": {
          "base_uri": "https://localhost:8080/"
        },
        "id": "KOY_EtNl7QAG",
        "outputId": "bae6dc46-4a47-458d-ee49-8c742b39c74b"
      },
      "execution_count": 554,
      "outputs": [
        {
          "output_type": "execute_result",
          "data": {
            "text/plain": [
              "array([1, 0])"
            ]
          },
          "metadata": {},
          "execution_count": 554
        }
      ]
    },
    {
      "cell_type": "code",
      "source": [
        "# data.head()"
      ],
      "metadata": {
        "id": "JYy27-5i92xb"
      },
      "execution_count": 555,
      "outputs": []
    },
    {
      "cell_type": "markdown",
      "source": [
        "# **⭐Declare the dependent and the independent variables**"
      ],
      "metadata": {
        "id": "srxOamZO9oHQ"
      }
    },
    {
      "cell_type": "code",
      "source": [
        "Xi = data.iloc[:, 1:]    # data.drop(['diagnosis'], axis=1)"
      ],
      "metadata": {
        "id": "KJVlTEZK7VCe"
      },
      "execution_count": 556,
      "outputs": []
    },
    {
      "cell_type": "code",
      "source": [
        "yi = data.iloc[:, 0]    # data.diagnosis"
      ],
      "metadata": {
        "id": "1y833rjt-Kgf"
      },
      "execution_count": 557,
      "outputs": []
    },
    {
      "cell_type": "code",
      "source": [
        "# X.head()"
      ],
      "metadata": {
        "id": "ZDfjAs4n-Q9P"
      },
      "execution_count": 558,
      "outputs": []
    },
    {
      "cell_type": "code",
      "source": [
        "# y.head()"
      ],
      "metadata": {
        "id": "hlkjNWQY-SjI"
      },
      "execution_count": 559,
      "outputs": []
    },
    {
      "cell_type": "markdown",
      "source": [
        "# **Standard Scaler**"
      ],
      "metadata": {
        "id": "pTHgnEF5_KXv"
      }
    },
    {
      "cell_type": "code",
      "source": [
        "data1 = np.array([0, 10, 20, 200, 40, 50, 100])"
      ],
      "metadata": {
        "id": "tc_Suf1D-YSd"
      },
      "execution_count": 560,
      "outputs": []
    },
    {
      "cell_type": "code",
      "source": [
        "# For Understanding\n",
        "data2 = (data1 - np.min(data1)) / (np.max(data1) - np.min(data))"
      ],
      "metadata": {
        "id": "jXCxiiwC_hMk"
      },
      "execution_count": 561,
      "outputs": []
    },
    {
      "cell_type": "code",
      "source": [
        "# For Understanding\n",
        "data2"
      ],
      "metadata": {
        "colab": {
          "base_uri": "https://localhost:8080/"
        },
        "id": "1vZxuDQ0_5yx",
        "outputId": "21f8b5c8-e568-49ed-b73e-9bbcae603bb1"
      },
      "execution_count": 562,
      "outputs": [
        {
          "output_type": "execute_result",
          "data": {
            "text/plain": [
              "array([0.  , 0.05, 0.1 , 1.  , 0.2 , 0.25, 0.5 ])"
            ]
          },
          "metadata": {},
          "execution_count": 562
        }
      ]
    },
    {
      "cell_type": "code",
      "source": [
        "X_Scaled = (Xi - np.min(Xi)) / (np.max(Xi) - np.min(Xi))"
      ],
      "metadata": {
        "id": "fze8995N_8u3"
      },
      "execution_count": 563,
      "outputs": []
    },
    {
      "cell_type": "code",
      "source": [
        "# X_Scaled"
      ],
      "metadata": {
        "id": "zhQVWiP3BRt1"
      },
      "execution_count": 564,
      "outputs": []
    },
    {
      "cell_type": "code",
      "source": [
        "# Xi.columns"
      ],
      "metadata": {
        "id": "Y4U9LOPPD18F"
      },
      "execution_count": 565,
      "outputs": []
    },
    {
      "cell_type": "markdown",
      "source": [
        "# **Concatenate**"
      ],
      "metadata": {
        "id": "dgvqWSD1CHIB"
      }
    },
    {
      "cell_type": "code",
      "source": [
        "# Create a DataFrame with scaled features and the target variable\n",
        "Normal_DF = pd.DataFrame(np.column_stack([X_Scaled, yi]), columns=list(Xi.columns) + ['diagnosis'])"
      ],
      "metadata": {
        "id": "1DVueA0SCOYA"
      },
      "execution_count": 566,
      "outputs": []
    },
    {
      "cell_type": "code",
      "source": [
        "# Normal_DF.head()"
      ],
      "metadata": {
        "id": "U8AneqnaGZxB"
      },
      "execution_count": 567,
      "outputs": []
    },
    {
      "cell_type": "markdown",
      "source": [
        "# **⭐Divided Into Training Dataset & Test Dataset**"
      ],
      "metadata": {
        "id": "sRAiLHYoBoOQ"
      }
    },
    {
      "cell_type": "code",
      "source": [
        "Training_Dataset, Test_Dataset = tts(Normal_DF, test_size=0.15, random_state=42, shuffle=False)"
      ],
      "metadata": {
        "id": "rRlMiQlpkmlh"
      },
      "execution_count": 568,
      "outputs": []
    },
    {
      "cell_type": "code",
      "source": [
        "print(f\"Training_Dataset: {Training_Dataset.shape} \\nTest_Dataset: {Test_Dataset.shape}\\n\")"
      ],
      "metadata": {
        "colab": {
          "base_uri": "https://localhost:8080/"
        },
        "id": "nzS1xiZZGk8q",
        "outputId": "8f52e915-4dc3-4d8c-8621-5306d66248bd"
      },
      "execution_count": 569,
      "outputs": [
        {
          "output_type": "stream",
          "name": "stdout",
          "text": [
            "Training_Dataset: (483, 31) \n",
            "Test_Dataset: (86, 31)\n",
            "\n"
          ]
        }
      ]
    },
    {
      "cell_type": "markdown",
      "source": [
        "# **⭐In The Training Dataset**\n",
        "\n",
        "# **🎇I will divide the Training Dataset again into a Training Dataset and a Validation Dataset**"
      ],
      "metadata": {
        "id": "_Iowi111rZG8"
      }
    },
    {
      "cell_type": "code",
      "source": [
        "X_Training_Dataset = Training_Dataset.drop(['diagnosis'], axis=1)"
      ],
      "metadata": {
        "id": "ZTz0QnRDbFGq"
      },
      "execution_count": 570,
      "outputs": []
    },
    {
      "cell_type": "code",
      "source": [
        "y_Trining_Dataset = Training_Dataset.diagnosis"
      ],
      "metadata": {
        "id": "XSacxr94bRVk"
      },
      "execution_count": 571,
      "outputs": []
    },
    {
      "cell_type": "code",
      "source": [
        "print(f\"x_train: {X_Training_Dataset.shape} & y_train: {y_Trining_Dataset.shape}\")"
      ],
      "metadata": {
        "colab": {
          "base_uri": "https://localhost:8080/"
        },
        "id": "frzFwZBiPDNe",
        "outputId": "1ef635a1-1938-4926-ee9a-0a0021ab3407"
      },
      "execution_count": 572,
      "outputs": [
        {
          "output_type": "stream",
          "name": "stdout",
          "text": [
            "x_train: (483, 30) & y_train: (483,)\n"
          ]
        }
      ]
    },
    {
      "cell_type": "markdown",
      "source": [
        "#**⭐Divide the above Training Dataset into Training Dataset and Validator Dataset**"
      ],
      "metadata": {
        "id": "HU-h9TLLG4VC"
      }
    },
    {
      "cell_type": "code",
      "source": [
        "x_train, x_va, y_train, y_va = tts(X_Training_Dataset, y_Trining_Dataset, test_size=0.3, random_state=4)"
      ],
      "metadata": {
        "id": "Jo-edVlgZ-gd"
      },
      "execution_count": 573,
      "outputs": []
    },
    {
      "cell_type": "code",
      "source": [
        "print(f\"x_train: {x_train.shape} & y_train: {y_train.shape}\\n\")\n",
        "print(f\"x_va: {x_va.shape} & y_va: {y_va.shape}\")"
      ],
      "metadata": {
        "colab": {
          "base_uri": "https://localhost:8080/"
        },
        "id": "0U3574tJLAP1",
        "outputId": "1c918990-fb00-4e71-e75b-6715874a9b31"
      },
      "execution_count": 574,
      "outputs": [
        {
          "output_type": "stream",
          "name": "stdout",
          "text": [
            "x_train: (338, 30) & y_train: (338,)\n",
            "\n",
            "x_va: (145, 30) & y_va: (145,)\n"
          ]
        }
      ]
    },
    {
      "cell_type": "markdown",
      "source": [
        "# **Model Creating**"
      ],
      "metadata": {
        "id": "DhNg5hwaKIbL"
      }
    },
    {
      "cell_type": "code",
      "source": [
        "robot = LogisticRegression()"
      ],
      "metadata": {
        "id": "hnfEl7efGrLD"
      },
      "execution_count": 575,
      "outputs": []
    },
    {
      "cell_type": "markdown",
      "source": [
        "# **To learn more about the robot**"
      ],
      "metadata": {
        "id": "seDRXKYcJPT-"
      }
    },
    {
      "cell_type": "code",
      "source": [
        "robot.max_iter = 100000000"
      ],
      "metadata": {
        "id": "7lPg2P8pJLi9"
      },
      "execution_count": 576,
      "outputs": []
    },
    {
      "cell_type": "markdown",
      "source": [
        "# **Model Learning**"
      ],
      "metadata": {
        "id": "WUiHNOYzJkVO"
      }
    },
    {
      "cell_type": "code",
      "source": [
        "robot.fit(x_train, y_train)"
      ],
      "metadata": {
        "colab": {
          "base_uri": "https://localhost:8080/",
          "height": 75
        },
        "id": "GgfwyIEsJiul",
        "outputId": "6ddca83a-4f8d-4d99-d4d5-d5b4a0c10dac"
      },
      "execution_count": 577,
      "outputs": [
        {
          "output_type": "execute_result",
          "data": {
            "text/plain": [
              "LogisticRegression(max_iter=100000000)"
            ],
            "text/html": [
              "<style>#sk-container-id-10 {color: black;background-color: white;}#sk-container-id-10 pre{padding: 0;}#sk-container-id-10 div.sk-toggleable {background-color: white;}#sk-container-id-10 label.sk-toggleable__label {cursor: pointer;display: block;width: 100%;margin-bottom: 0;padding: 0.3em;box-sizing: border-box;text-align: center;}#sk-container-id-10 label.sk-toggleable__label-arrow:before {content: \"▸\";float: left;margin-right: 0.25em;color: #696969;}#sk-container-id-10 label.sk-toggleable__label-arrow:hover:before {color: black;}#sk-container-id-10 div.sk-estimator:hover label.sk-toggleable__label-arrow:before {color: black;}#sk-container-id-10 div.sk-toggleable__content {max-height: 0;max-width: 0;overflow: hidden;text-align: left;background-color: #f0f8ff;}#sk-container-id-10 div.sk-toggleable__content pre {margin: 0.2em;color: black;border-radius: 0.25em;background-color: #f0f8ff;}#sk-container-id-10 input.sk-toggleable__control:checked~div.sk-toggleable__content {max-height: 200px;max-width: 100%;overflow: auto;}#sk-container-id-10 input.sk-toggleable__control:checked~label.sk-toggleable__label-arrow:before {content: \"▾\";}#sk-container-id-10 div.sk-estimator input.sk-toggleable__control:checked~label.sk-toggleable__label {background-color: #d4ebff;}#sk-container-id-10 div.sk-label input.sk-toggleable__control:checked~label.sk-toggleable__label {background-color: #d4ebff;}#sk-container-id-10 input.sk-hidden--visually {border: 0;clip: rect(1px 1px 1px 1px);clip: rect(1px, 1px, 1px, 1px);height: 1px;margin: -1px;overflow: hidden;padding: 0;position: absolute;width: 1px;}#sk-container-id-10 div.sk-estimator {font-family: monospace;background-color: #f0f8ff;border: 1px dotted black;border-radius: 0.25em;box-sizing: border-box;margin-bottom: 0.5em;}#sk-container-id-10 div.sk-estimator:hover {background-color: #d4ebff;}#sk-container-id-10 div.sk-parallel-item::after {content: \"\";width: 100%;border-bottom: 1px solid gray;flex-grow: 1;}#sk-container-id-10 div.sk-label:hover label.sk-toggleable__label {background-color: #d4ebff;}#sk-container-id-10 div.sk-serial::before {content: \"\";position: absolute;border-left: 1px solid gray;box-sizing: border-box;top: 0;bottom: 0;left: 50%;z-index: 0;}#sk-container-id-10 div.sk-serial {display: flex;flex-direction: column;align-items: center;background-color: white;padding-right: 0.2em;padding-left: 0.2em;position: relative;}#sk-container-id-10 div.sk-item {position: relative;z-index: 1;}#sk-container-id-10 div.sk-parallel {display: flex;align-items: stretch;justify-content: center;background-color: white;position: relative;}#sk-container-id-10 div.sk-item::before, #sk-container-id-10 div.sk-parallel-item::before {content: \"\";position: absolute;border-left: 1px solid gray;box-sizing: border-box;top: 0;bottom: 0;left: 50%;z-index: -1;}#sk-container-id-10 div.sk-parallel-item {display: flex;flex-direction: column;z-index: 1;position: relative;background-color: white;}#sk-container-id-10 div.sk-parallel-item:first-child::after {align-self: flex-end;width: 50%;}#sk-container-id-10 div.sk-parallel-item:last-child::after {align-self: flex-start;width: 50%;}#sk-container-id-10 div.sk-parallel-item:only-child::after {width: 0;}#sk-container-id-10 div.sk-dashed-wrapped {border: 1px dashed gray;margin: 0 0.4em 0.5em 0.4em;box-sizing: border-box;padding-bottom: 0.4em;background-color: white;}#sk-container-id-10 div.sk-label label {font-family: monospace;font-weight: bold;display: inline-block;line-height: 1.2em;}#sk-container-id-10 div.sk-label-container {text-align: center;}#sk-container-id-10 div.sk-container {/* jupyter's `normalize.less` sets `[hidden] { display: none; }` but bootstrap.min.css set `[hidden] { display: none !important; }` so we also need the `!important` here to be able to override the default hidden behavior on the sphinx rendered scikit-learn.org. See: https://github.com/scikit-learn/scikit-learn/issues/21755 */display: inline-block !important;position: relative;}#sk-container-id-10 div.sk-text-repr-fallback {display: none;}</style><div id=\"sk-container-id-10\" class=\"sk-top-container\"><div class=\"sk-text-repr-fallback\"><pre>LogisticRegression(max_iter=100000000)</pre><b>In a Jupyter environment, please rerun this cell to show the HTML representation or trust the notebook. <br />On GitHub, the HTML representation is unable to render, please try loading this page with nbviewer.org.</b></div><div class=\"sk-container\" hidden><div class=\"sk-item\"><div class=\"sk-estimator sk-toggleable\"><input class=\"sk-toggleable__control sk-hidden--visually\" id=\"sk-estimator-id-10\" type=\"checkbox\" checked><label for=\"sk-estimator-id-10\" class=\"sk-toggleable__label sk-toggleable__label-arrow\">LogisticRegression</label><div class=\"sk-toggleable__content\"><pre>LogisticRegression(max_iter=100000000)</pre></div></div></div></div></div>"
            ]
          },
          "metadata": {},
          "execution_count": 577
        }
      ]
    },
    {
      "cell_type": "markdown",
      "source": [
        "# **Model Prediction**"
      ],
      "metadata": {
        "id": "qB5YgFo2WOV2"
      }
    },
    {
      "cell_type": "markdown",
      "source": [
        "# **First Method**"
      ],
      "metadata": {
        "id": "OwWnrTO9eoV6"
      }
    },
    {
      "cell_type": "code",
      "source": [
        "y_true = y_va\n",
        "\n",
        "y_pred = robot.predict(x_va)\n",
        "\n",
        "correct_predictions = y_true == y_pred\n",
        "correct_predictions = correct_predictions.reset_index()\n",
        "correct_predictions = correct_predictions.diagnosis\n",
        "\n",
        "n = 0\n",
        "for i in correct_predictions:\n",
        "  # print(i)\n",
        "  if i == False:\n",
        "    n += 1\n",
        "\n",
        "print(f\"{30 * '-'} Prediction In The Training Dataset {30 * '-'}\\n\")\n",
        "print(f\"\\nTotal predictions: {len(correct_predictions)}\\n\")\n",
        "print(f\"The sum of correct predictions: {len(correct_predictions) - n}\\n\")\n",
        "print(f\"The sum of incorrect predictions: {n}\\n\")\n",
        "\n",
        "print(f\"Percentage Of Incorrect Predictins In The Training Dataset: {(n * 100) / len(correct_predictions):.2f}%\\n\")\n",
        "print(f\"Percentage Of Correct Predictins In The Training Dataset: {100 - (n * 100) / len(correct_predictions):.2f}%\")\n",
        "print(f\"\\n{94 * '-'}\\n\")"
      ],
      "metadata": {
        "colab": {
          "base_uri": "https://localhost:8080/"
        },
        "id": "VaelBrZXLUrT",
        "outputId": "c07a0542-7c86-4bdb-bd90-8a19047d5538"
      },
      "execution_count": 599,
      "outputs": [
        {
          "output_type": "stream",
          "name": "stdout",
          "text": [
            "------------------------------ Prediction In The Training Dataset ------------------------------\n",
            "\n",
            "\n",
            "Total predictions: 145\n",
            "\n",
            "The sum of correct predictions: 123\n",
            "\n",
            "The sum of incorrect predictions: 22\n",
            "\n",
            "Percentage Of Incorrect Predictins In The Training Dataset: 15.17%\n",
            "\n",
            "Percentage Of Correct Predictins In The Training Dataset: 84.83%\n",
            "\n",
            "----------------------------------------------------------------------------------------------\n",
            "\n"
          ]
        }
      ]
    },
    {
      "cell_type": "markdown",
      "source": [
        "# **second Method**"
      ],
      "metadata": {
        "id": "dr3K6z2Lek4v"
      }
    },
    {
      "cell_type": "code",
      "source": [
        "# # Renamed variables for clarity\n",
        "# true_labels = y_va\n",
        "# predicted_labels = robot.predict(x_va)\n",
        "\n",
        "# correct_predictions = true_labels == predicted_labels\n",
        "# correct_predictions = correct_predictions.reset_index()\n",
        "# correct_predictions = correct_predictions.diagnosis\n",
        "\n",
        "# # Count the number of incorrect predictions\n",
        "# n_incorrect = (correct_predictions == False).sum()\n",
        "\n",
        "# # Calculate the percentage of correct predictions\n",
        "# percentage_correct = (len(correct_predictions) - n_incorrect) / len(correct_predictions) * 100\n",
        "\n",
        "# print(f\"\\nTotal predictions: {len(correct_predictions)}\")\n",
        "# print(f\"The sum of correct predictions: {len(correct_predictions) - n_incorrect}\")\n",
        "# print(f\"The sum of incorrect predictions: {n_incorrect}\")\n",
        "# print(f\"Percentage of correct predictions in the validation dataset: {percentage_correct:.2f}%\")\n"
      ],
      "metadata": {
        "id": "QKrItepFXGKk"
      },
      "execution_count": 579,
      "outputs": []
    },
    {
      "cell_type": "code",
      "source": [
        "# The ratio of the number of correct predictions to the total number of samples.\n",
        "accuracy = accuracy_score(y_true, y_pred) * 100\n",
        "\n",
        "# ------------------------------------------------\n",
        "# The ratio of the number of true positive samples correctly detected to the total number of true positive samples.\n",
        "# sensitivity = TP / (TP + FN) This is the same recall measure\n",
        "recall = recall_score(y_true, y_pred) * 100\n",
        "\n",
        "# ------------------------------------------------\n",
        "# The ratio of the number of true positive samples correctly detected to the total number of samples detected as positive.\n",
        "# Calculate the positive predictive value (PPV)\n",
        "# ppv = TP / (TP + FP)\n",
        "precision = precision_score(y_true, y_pred) * 100\n",
        "\n",
        "# ------------------------------------------------\n",
        "F1_score = f1_score(y_true, y_pred) * 100\n",
        "\n",
        "# ------------------------------------------------\n",
        "# Calculate the negative predictive value (NPV)\n",
        "# npv = TN / (TN + FN)\n",
        "\n",
        "# ------------------------------------------------\n",
        "# محاسبه اختصاصیت (Specificity)\n",
        "# specificity_score = TN / (TN + FP)\n",
        "\n",
        "# ------------------------------------------------\n",
        "# Calculate the positive likelihood ratio (LR+)\n",
        "# lr_plus = recall_score(y_true, y_pred) / (1 - specificity_score(y_true, y_pred))\n"
      ],
      "metadata": {
        "id": "cutn-v-tfgS-"
      },
      "execution_count": 580,
      "outputs": []
    },
    {
      "cell_type": "code",
      "source": [
        "print(f\"{30 * '-'} Evaluation Model In The Training Dataset Stage {30 * '-'}\\n\")\n",
        "\n",
        "print(f\"Accuracy Score: {accuracy:.2f}%\\n\")\n",
        "print(f\"precision Score: {precision:.2f}%\\n\")\n",
        "print(f\"recall Score: {recall:.2f}%\\n\")\n",
        "print(f\"F1 Score: {F1_score:.2f}%\\n\")\n",
        "print(f\"{70 * '-'}\")\n",
        "print(f\"confusion_matrix: \\n\\n{confusion_matrix(y_true, y_pred)}\\n\")\n",
        "print(f\"{70 * '-'}\")\n",
        "print(f\"classification_report: \\n\\n{classification_report(y_true, y_pred)}\\n\")\n",
        "print(f\"{94 * '-'}\")"
      ],
      "metadata": {
        "colab": {
          "base_uri": "https://localhost:8080/"
        },
        "id": "HP154Cq2x48s",
        "outputId": "52a8335c-6434-47f1-8042-467e272b982f"
      },
      "execution_count": 600,
      "outputs": [
        {
          "output_type": "stream",
          "name": "stdout",
          "text": [
            "------------------------------ Evaluation Model In The Training Dataset Stage ------------------------------\n",
            "\n",
            "Accuracy Score: 91.86%\n",
            "\n",
            "precision Score: 94.12%\n",
            "\n",
            "recall Score: 72.73%\n",
            "\n",
            "F1 Score: 82.05%\n",
            "\n",
            "----------------------------------------------------------------------\n",
            "confusion_matrix: \n",
            "\n",
            "[[88  1]\n",
            " [21 35]]\n",
            "\n",
            "----------------------------------------------------------------------\n",
            "classification_report: \n",
            "\n",
            "              precision    recall  f1-score   support\n",
            "\n",
            "         0.0       0.81      0.99      0.89        89\n",
            "         1.0       0.97      0.62      0.76        56\n",
            "\n",
            "    accuracy                           0.85       145\n",
            "   macro avg       0.89      0.81      0.82       145\n",
            "weighted avg       0.87      0.85      0.84       145\n",
            "\n",
            "\n",
            "----------------------------------------------------------------------------------------------\n"
          ]
        }
      ]
    },
    {
      "cell_type": "code",
      "source": [
        "import matplotlib.pyplot as plt\n",
        "from sklearn.metrics import confusion_matrix, ConfusionMatrixDisplay\n",
        "\n",
        "# Compute the confusion matrix\n",
        "cm = confusion_matrix(y_true, y_pred)\n",
        "\n",
        "# Create the confusion matrix plot\n",
        "plt.figure(figsize=(8, 6))\n",
        "disp = ConfusionMatrixDisplay(confusion_matrix=cm, display_labels=['Benign', 'Malignant'])\n",
        "disp.plot(cmap='Blues')\n",
        "plt.title('Confusion Matrix')\n",
        "plt.xlabel('Predicted Label')\n",
        "plt.ylabel('True Label')\n",
        "plt.show()"
      ],
      "metadata": {
        "colab": {
          "base_uri": "https://localhost:8080/",
          "height": 489
        },
        "id": "X4HcN825aGKC",
        "outputId": "bfa180f4-9037-4e6d-feaf-fc7661b8456e"
      },
      "execution_count": 582,
      "outputs": [
        {
          "output_type": "display_data",
          "data": {
            "text/plain": [
              "<Figure size 800x600 with 0 Axes>"
            ]
          },
          "metadata": {}
        },
        {
          "output_type": "display_data",
          "data": {
            "text/plain": [
              "<Figure size 640x480 with 2 Axes>"
            ],
            "image/png": "[encoded data removed]"
          },
          "metadata": {}
        }
      ]
    },
    {
      "cell_type": "code",
      "source": [
        "import matplotlib.pyplot as plt\n",
        "from sklearn.metrics import confusion_matrix, ConfusionMatrixDisplay\n",
        "\n",
        "# Compute the confusion matrix\n",
        "cm = confusion_matrix(y_true, y_pred)\n",
        "\n",
        "# Create the confusion matrix plot\n",
        "plt.figure(figsize=(8, 6))\n",
        "disp = ConfusionMatrixDisplay(confusion_matrix=cm, display_labels=['Benign', 'Malignant'])\n",
        "disp.plot(cmap='Blues')\n",
        "\n",
        "# Add true positive and true negative values to the plot\n",
        "tn, fp, fn, tp = cm.ravel()\n",
        "plt.text(0, 0, f'True Negative: {tn}', color='white', ha='center', va='center', fontsize=12)\n",
        "plt.text(0, 1, f'False Positive: {fn}', color='black', ha='center', va='center', fontsize=12)\n",
        "plt.text(1, 0, f'False Negative: {fp}', color='black', ha='center', va='center', fontsize=12)\n",
        "plt.text(1, 1, f'True Positive: {tp}', color='black', ha='center', va='center', fontsize=12)\n",
        "\n",
        "plt.title('Confusion Matrix')\n",
        "plt.xlabel('Predicted Label')\n",
        "plt.ylabel('True Label')\n",
        "plt.show()\n"
      ],
      "metadata": {
        "colab": {
          "base_uri": "https://localhost:8080/",
          "height": 489
        },
        "id": "d8VLx2rmjE13",
        "outputId": "3062d923-676d-4320-843b-98ecb92cc73c"
      },
      "execution_count": 583,
      "outputs": [
        {
          "output_type": "display_data",
          "data": {
            "text/plain": [
              "<Figure size 800x600 with 0 Axes>"
            ]
          },
          "metadata": {}
        },
        {
          "output_type": "display_data",
          "data": {
            "text/plain": [
              "<Figure size 640x480 with 2 Axes>"
            ],
            "image/png": "[encoded data removed]"
          },
          "metadata": {}
        }
      ]
    },
    {
      "cell_type": "markdown",
      "source": [
        "# **Test Dataset**"
      ],
      "metadata": {
        "id": "yxepC2taO76x"
      }
    },
    {
      "cell_type": "code",
      "source": [
        "X_Test_Dataset = Test_Dataset.drop(['diagnosis'], axis=1)"
      ],
      "metadata": {
        "id": "0Ref-FeoaRjJ"
      },
      "execution_count": 584,
      "outputs": []
    },
    {
      "cell_type": "code",
      "source": [
        "# X_Test_Dataset.head()"
      ],
      "metadata": {
        "id": "we8_3q1mPNcS"
      },
      "execution_count": 585,
      "outputs": []
    },
    {
      "cell_type": "code",
      "source": [
        "y_Test_Dataset = Test_Dataset['diagnosis']"
      ],
      "metadata": {
        "id": "DzzOWi1daRjJ"
      },
      "execution_count": 586,
      "outputs": []
    },
    {
      "cell_type": "code",
      "source": [
        "print(f\"x_train: {X_Test_Dataset.shape} & y_train: {y_Test_Dataset.shape}\")"
      ],
      "metadata": {
        "colab": {
          "base_uri": "https://localhost:8080/"
        },
        "id": "9Ay0oh05Pg-L",
        "outputId": "bdad7673-8af3-4972-9e8f-d167e6288568"
      },
      "execution_count": 587,
      "outputs": [
        {
          "output_type": "stream",
          "name": "stdout",
          "text": [
            "x_train: (86, 30) & y_train: (86,)\n"
          ]
        }
      ]
    },
    {
      "cell_type": "code",
      "source": [
        "y_true = y_Test_Dataset\n",
        "\n",
        "y_pred = robot.predict(X_Test_Dataset)\n",
        "\n",
        "correct_predictions = y_true == y_pred\n",
        "correct_predictions = correct_predictions.reset_index()\n",
        "correct_predictions = correct_predictions.diagnosis\n",
        "\n",
        "n = 0\n",
        "for i in correct_predictions:\n",
        "  # print(i)\n",
        "  if i == False:\n",
        "    n += 1\n",
        "\n",
        "print(f\"{30 * '-'} prediction In The Test Dataset stage {30 * '-'}\\n\")\n",
        "\n",
        "print(f\"\\nTotal predictions: {len(correct_predictions)}\\n\")\n",
        "print(f\"The sum of correct predictions: {len(correct_predictions) - n}\\n\")\n",
        "print(f\"The sum of incorrect predictions: {n}\\n\")\n",
        "\n",
        "print(f\"Percentage Of Incorrect Predictins In The Training Dataset: {(n * 100) / len(correct_predictions):.2f}%\\n\")\n",
        "print(f\"Percentage Of Correct Predictins In The Training Dataset: {100 - (n * 100) / len(correct_predictions):.2f}%\\n\")\n",
        "print(f\"{94 * '-'}\")"
      ],
      "metadata": {
        "colab": {
          "base_uri": "https://localhost:8080/"
        },
        "id": "-wn83sUyWYeK",
        "outputId": "fe04761c-f39c-4399-d0d7-43d8d9e9612f"
      },
      "execution_count": 603,
      "outputs": [
        {
          "output_type": "stream",
          "name": "stdout",
          "text": [
            "------------------------------ prediction In The Test Dataset stage ------------------------------\n",
            "\n",
            "\n",
            "Total predictions: 86\n",
            "\n",
            "The sum of correct predictions: 79\n",
            "\n",
            "The sum of incorrect predictions: 7\n",
            "\n",
            "Percentage Of Incorrect Predictins In The Training Dataset: 8.14%\n",
            "\n",
            "Percentage Of Correct Predictins In The Training Dataset: 91.86%\n",
            "\n",
            "----------------------------------------------------------------------------------------------\n"
          ]
        }
      ]
    },
    {
      "cell_type": "code",
      "source": [
        "# The ratio of the number of correct predictions to the total number of samples.\n",
        "accuracy = accuracy_score(y_true, y_pred) * 100\n",
        "\n",
        "# ------------------------------------------------\n",
        "# The ratio of the number of true positive samples correctly detected to the total number of true positive samples.\n",
        "# sensitivity = TP / (TP + FN) This is the same recall measure\n",
        "recall = recall_score(y_true, y_pred) * 100\n",
        "\n",
        "# ------------------------------------------------\n",
        "# The ratio of the number of true positive samples correctly detected to the total number of samples detected as positive.\n",
        "# Calculate the positive predictive value (PPV)\n",
        "# ppv = TP / (TP + FP)\n",
        "precision = precision_score(y_true, y_pred) * 100\n",
        "\n",
        "# ------------------------------------------------\n",
        "F1_score = f1_score(y_true, y_pred) * 100\n",
        "\n",
        "# ------------------------------------------------\n",
        "# Calculate the negative predictive value (NPV)\n",
        "# npv = TN / (TN + FN)\n",
        "\n",
        "# ------------------------------------------------\n",
        "# محاسبه اختصاصیت (Specificity)\n",
        "# specificity_score = TN / (TN + FP)\n",
        "\n",
        "# ------------------------------------------------\n",
        "# Calculate the positive likelihood ratio (LR+)\n",
        "# lr_plus = recall_score(y_true, y_pred) / (1 - specificity_score(y_true, y_pred))\n"
      ],
      "metadata": {
        "id": "3B48go-8Wxxu"
      },
      "execution_count": 589,
      "outputs": []
    },
    {
      "cell_type": "code",
      "source": [
        "print(f\"{30 * '-'} Evaluation Model In The Test Dataset stage {30 * '-'}\\n\")\n",
        "\n",
        "print(f\"Accuracy Score: {accuracy:.2f}%\\n\")\n",
        "print(f\"precision Score: {precision:.2f}%\\n\")\n",
        "print(f\"recall Score: {recall:.2f}%\\n\")\n",
        "print(f\"F1 Score: {F1_score:.2f}%\\n\")\n",
        "print(f\"{70 * '-'}\")\n",
        "print(f\"confusion_matrix: \\n\\n{confusion_matrix(y_true, y_pred)}\\n\")\n",
        "print(f\"{70 * '-'}\")\n",
        "print(f\"classification_report: \\n\\n{classification_report(y_true, y_pred)}\\n\")\n",
        "print(f\"{94 * '-'}\")"
      ],
      "metadata": {
        "colab": {
          "base_uri": "https://localhost:8080/"
        },
        "outputId": "d2c816f3-af5d-44c5-e16e-12147c2ae721",
        "id": "DzxHHD19WxyR"
      },
      "execution_count": 604,
      "outputs": [
        {
          "output_type": "stream",
          "name": "stdout",
          "text": [
            "------------------------------ Evaluation Model In The Test Dataset stage ------------------------------\n",
            "\n",
            "Accuracy Score: 91.86%\n",
            "\n",
            "precision Score: 94.12%\n",
            "\n",
            "recall Score: 72.73%\n",
            "\n",
            "F1 Score: 82.05%\n",
            "\n",
            "----------------------------------------------------------------------\n",
            "confusion_matrix: \n",
            "\n",
            "[[63  1]\n",
            " [ 6 16]]\n",
            "\n",
            "----------------------------------------------------------------------\n",
            "classification_report: \n",
            "\n",
            "              precision    recall  f1-score   support\n",
            "\n",
            "         0.0       0.91      0.98      0.95        64\n",
            "         1.0       0.94      0.73      0.82        22\n",
            "\n",
            "    accuracy                           0.92        86\n",
            "   macro avg       0.93      0.86      0.88        86\n",
            "weighted avg       0.92      0.92      0.91        86\n",
            "\n",
            "\n",
            "----------------------------------------------------------------------------------------------\n"
          ]
        }
      ]
    },
    {
      "cell_type": "code",
      "source": [
        "import matplotlib.pyplot as plt\n",
        "from sklearn.metrics import confusion_matrix, ConfusionMatrixDisplay\n",
        "\n",
        "# Compute the confusion matrix\n",
        "cm = confusion_matrix(y_true, y_pred)\n",
        "\n",
        "# Create the confusion matrix plot\n",
        "plt.figure(figsize=(8, 6))\n",
        "disp = ConfusionMatrixDisplay(confusion_matrix=cm, display_labels=['Benign', 'Malignant'])\n",
        "disp.plot(cmap='Blues')\n",
        "plt.title('Confusion Matrix')\n",
        "plt.xlabel('Predicted Label')\n",
        "plt.ylabel('True Label')\n",
        "plt.show()"
      ],
      "metadata": {
        "colab": {
          "base_uri": "https://localhost:8080/",
          "height": 489
        },
        "outputId": "cfffb94f-e865-4a60-8c31-82d84df28f55",
        "id": "298lGeYQWxyW"
      },
      "execution_count": 591,
      "outputs": [
        {
          "output_type": "display_data",
          "data": {
            "text/plain": [
              "<Figure size 800x600 with 0 Axes>"
            ]
          },
          "metadata": {}
        },
        {
          "output_type": "display_data",
          "data": {
            "text/plain": [
              "<Figure size 640x480 with 2 Axes>"
            ],
            "image/png": "[encoded data removed]"
          },
          "metadata": {}
        }
      ]
    },
    {
      "cell_type": "code",
      "source": [
        "import matplotlib.pyplot as plt\n",
        "from sklearn.metrics import confusion_matrix, ConfusionMatrixDisplay\n",
        "\n",
        "# Compute the confusion matrix\n",
        "cm = confusion_matrix(y_true, y_pred)\n",
        "\n",
        "# Create the confusion matrix plot\n",
        "plt.figure(figsize=(8, 6))\n",
        "disp = ConfusionMatrixDisplay(confusion_matrix=cm, display_labels=['Benign', 'Malignant'])\n",
        "disp.plot(cmap='Blues')\n",
        "\n",
        "# Add true positive and true negative values to the plot\n",
        "tn, fp, fn, tp = cm.ravel()\n",
        "plt.text(0, 0, f'True Negative: {tn}', color='white', ha='center', va='center', fontsize=12)\n",
        "plt.text(0, 1, f'False Positive: {fn}', color='black', ha='center', va='center', fontsize=12)\n",
        "plt.text(1, 0, f'False Negative: {fp}', color='black', ha='center', va='center', fontsize=12)\n",
        "plt.text(1, 1, f'True Positive: {tp}', color='black', ha='center', va='center', fontsize=12)\n",
        "\n",
        "plt.title('Confusion Matrix')\n",
        "plt.xlabel('Predicted Label')\n",
        "plt.ylabel('True Label')\n",
        "plt.show()\n"
      ],
      "metadata": {
        "colab": {
          "base_uri": "https://localhost:8080/",
          "height": 489
        },
        "outputId": "fe7f00d1-5b69-40fc-dfa4-9f1448ed89c5",
        "id": "cbanAob5WxyY"
      },
      "execution_count": 592,
      "outputs": [
        {
          "output_type": "display_data",
          "data": {
            "text/plain": [
              "<Figure size 800x600 with 0 Axes>"
            ]
          },
          "metadata": {}
        },
        {
          "output_type": "display_data",
          "data": {
            "text/plain": [
              "<Figure size 640x480 with 2 Axes>"
            ],
            "image/png": "[encoded data removed]"
          },
          "metadata": {}
        }
      ]
    }
  ]
}